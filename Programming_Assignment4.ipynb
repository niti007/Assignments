{
 "cells": [
  {
   "cell_type": "code",
   "execution_count": 1,
   "id": "a65364c5",
   "metadata": {},
   "outputs": [
    {
     "name": "stdout",
     "output_type": "stream",
     "text": [
      "enter a number: 5\n",
      "120\n"
     ]
    }
   ],
   "source": [
    "a=int(input(\"enter a number: \"))\n",
    "if a==0:\n",
    "    print(\"the Factorial is 0\")\n",
    "factorial=1\n",
    "for i in range(1,a+1):\n",
    "    factorial=factorial*i\n",
    "print(factorial)\n",
    "    "
   ]
  },
  {
   "cell_type": "code",
   "execution_count": 18,
   "id": "76c39466",
   "metadata": {},
   "outputs": [
    {
     "name": "stdout",
     "output_type": "stream",
     "text": [
      "enter a number: 0\n",
      "0 x 1 = 0\n",
      "0 x 2 = 0\n",
      "0 x 3 = 0\n",
      "0 x 4 = 0\n",
      "0 x 5 = 0\n",
      "0 x 6 = 0\n",
      "0 x 7 = 0\n",
      "0 x 8 = 0\n",
      "0 x 9 = 0\n",
      "0 x 10 = 0\n"
     ]
    }
   ],
   "source": [
    "m=int(input(\"enter a number: \"))\n",
    "for i in range(1,11):\n",
    "    print(m,\"x\",i,'=',m*i)\n",
    "    \n",
    "\n",
    "    "
   ]
  },
  {
   "cell_type": "code",
   "execution_count": 1,
   "id": "d2d9d619",
   "metadata": {},
   "outputs": [
    {
     "name": "stdout",
     "output_type": "stream",
     "text": [
      "enter till where you want the series: 3\n",
      "1\n",
      "2\n",
      "3\n"
     ]
    }
   ],
   "source": [
    "n=int(input(\"enter the value of n: \"))\n",
    "a=0\n",
    "b=1\n",
    "sum=0\n",
    "count=1\n",
    "while a<b:\n",
    "    a=a+1\n",
    "    print(a)"
   ]
  },
  {
   "cell_type": "code",
   "execution_count": 7,
   "id": "98b940f6",
   "metadata": {},
   "outputs": [
    {
     "name": "stdout",
     "output_type": "stream",
     "text": [
      "enter the no: 153\n",
      "153 is a Armstrong Number\n"
     ]
    }
   ],
   "source": [
    "n=int(input(\"enter the no: \"))\n",
    "s=0\n",
    "t=n\n",
    "while t>0:\n",
    "    a=t%10\n",
    "    s+=a**3\n",
    "    t=t//10\n",
    "if n==s:\n",
    "    print(n,'is a Armstrong Number')\n",
    "else:\n",
    "    print(n,'Not a Armstrong Number')\n"
   ]
  },
  {
   "cell_type": "code",
   "execution_count": 10,
   "id": "6e55b2ce",
   "metadata": {},
   "outputs": [
    {
     "name": "stdout",
     "output_type": "stream",
     "text": [
      "enter the lower limit: 100\n",
      "enter the upper limit: 2000\n",
      "153\n",
      "370\n",
      "371\n",
      "407\n",
      "1634\n"
     ]
    }
   ],
   "source": [
    "lower=int(input(\"enter the lower limit: \"))\n",
    "upper=int(input(\"enter the upper limit: \"))\n",
    "for i in range(lower,upper+1):\n",
    "    order =len(str(i))\n",
    "    sum=0\n",
    "    a=i\n",
    "    while a>0:\n",
    "        b=a%10\n",
    "        sum+=b**order\n",
    "        a=a//10\n",
    "    if i==sum:\n",
    "        print(i)"
   ]
  },
  {
   "cell_type": "code",
   "execution_count": 23,
   "id": "11a2e071",
   "metadata": {},
   "outputs": [
    {
     "name": "stdout",
     "output_type": "stream",
     "text": [
      "enter the value of n: 5\n",
      "Sum of first 5 natural number is 15\n"
     ]
    }
   ],
   "source": [
    "n=int(input(\"enter the value of n: \"))   \n",
    "sum=n*(n+1)/2\n",
    "print(\"Sum of first\",n ,\"natural number is\",int(sum))\n",
    "  "
   ]
  },
  {
   "cell_type": "code",
   "execution_count": null,
   "id": "71bdabd9",
   "metadata": {},
   "outputs": [],
   "source": []
  },
  {
   "cell_type": "code",
   "execution_count": 12,
   "id": "477d6c17",
   "metadata": {},
   "outputs": [],
   "source": []
  },
  {
   "cell_type": "code",
   "execution_count": null,
   "id": "61d0a1d9",
   "metadata": {},
   "outputs": [],
   "source": []
  },
  {
   "cell_type": "code",
   "execution_count": null,
   "id": "bf657a21",
   "metadata": {},
   "outputs": [],
   "source": []
  }
 ],
 "metadata": {
  "kernelspec": {
   "display_name": "Python 3 (ipykernel)",
   "language": "python",
   "name": "python3"
  },
  "language_info": {
   "codemirror_mode": {
    "name": "ipython",
    "version": 3
   },
   "file_extension": ".py",
   "mimetype": "text/x-python",
   "name": "python",
   "nbconvert_exporter": "python",
   "pygments_lexer": "ipython3",
   "version": "3.9.7"
  }
 },
 "nbformat": 4,
 "nbformat_minor": 5
}
